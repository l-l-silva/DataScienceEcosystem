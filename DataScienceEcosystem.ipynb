{
 "cells": [
  {
   "cell_type": "markdown",
   "id": "c10a3d92",
   "metadata": {},
   "source": [
    "# Data Science Tools and Ecosystem"
   ]
  },
  {
   "cell_type": "markdown",
   "id": "b5d6c544",
   "metadata": {},
   "source": [
    "In this notebook, Data Science Tools and Ecosystem are summarized."
   ]
  },
  {
   "cell_type": "markdown",
   "id": "1e40f635",
   "metadata": {},
   "source": [
    "\n",
    "**Objectives:**\n",
    "\n",
    "* Identify the users and benefits of Python.\n",
    "* Review languages such as Java, Scala, C++, JavaScript, and Julia.\n",
    "* List the various libraries: scientific, visualization, machine learning, and deep learning.\n",
    "* Describe how to use the notebooks in JupyterLab.\n",
    "* Explain version control and describe the Git and GitHub environment."
   ]
  },
  {
   "cell_type": "markdown",
   "id": "32f7270e",
   "metadata": {},
   "source": [
    "Some of the popular languages that Data Scientists use are:\n",
    "\n",
    "1. Python\n",
    "2. R\n",
    "3. SQL\n",
    "4. Julia\n",
    "5. Java"
   ]
  },
  {
   "cell_type": "markdown",
   "id": "71353e75",
   "metadata": {},
   "source": [
    "Some of the commonly used libraries used by Data Scientists include:\n",
    "\n",
    "1. Pandas\n",
    "2. ggplot\n",
    "3. Caret\n",
    "4. Matplotlib"
   ]
  },
  {
   "cell_type": "markdown",
   "id": "da8b008b",
   "metadata": {},
   "source": [
    "|Data Science Tools|\n",
    "|:----:|\n",
    "| Jupyter Notebooks |\n",
    "| Python |\n",
    "| Hadoop |"
   ]
  },
  {
   "cell_type": "markdown",
   "id": "97982231",
   "metadata": {},
   "source": [
    "### Below are a few examples of evaluating arithmetic expressions in Python"
   ]
  },
  {
   "cell_type": "code",
   "execution_count": 1,
   "id": "9e8f9159",
   "metadata": {},
   "outputs": [
    {
     "data": {
      "text/plain": [
       "17"
      ]
     },
     "execution_count": 1,
     "metadata": {},
     "output_type": "execute_result"
    }
   ],
   "source": [
    "# This example show the hability to multiply and add integers\n",
    "\n",
    "(3*4)+5\n"
   ]
  },
  {
   "cell_type": "code",
   "execution_count": 2,
   "id": "584292de",
   "metadata": {},
   "outputs": [
    {
     "data": {
      "text/plain": [
       "3.3333333333333335"
      ]
     },
     "execution_count": 2,
     "metadata": {},
     "output_type": "execute_result"
    }
   ],
   "source": [
    "# To convert the ammount of 200h in minutes, will dvide this integer by 60\n",
    "\n",
    "200/60"
   ]
  },
  {
   "cell_type": "markdown",
   "id": "2a3f5142",
   "metadata": {},
   "source": [
    "## Author\n",
    "Lucas Lopes Silva"
   ]
  }
 ],
 "metadata": {
  "kernelspec": {
   "display_name": "Python 3 (ipykernel)",
   "language": "python",
   "name": "python3"
  },
  "language_info": {
   "codemirror_mode": {
    "name": "ipython",
    "version": 3
   },
   "file_extension": ".py",
   "mimetype": "text/x-python",
   "name": "python",
   "nbconvert_exporter": "python",
   "pygments_lexer": "ipython3",
   "version": "3.9.6"
  }
 },
 "nbformat": 4,
 "nbformat_minor": 5
}
